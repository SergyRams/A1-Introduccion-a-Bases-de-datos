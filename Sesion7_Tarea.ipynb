{
  "nbformat": 4,
  "nbformat_minor": 0,
  "metadata": {
    "colab": {
      "provenance": [],
      "authorship_tag": "ABX9TyNkjS8l/t6cpRGyDOIYwE6z",
      "include_colab_link": true
    },
    "kernelspec": {
      "name": "python3",
      "display_name": "Python 3"
    },
    "language_info": {
      "name": "python"
    }
  },
  "cells": [
    {
      "cell_type": "markdown",
      "metadata": {
        "id": "view-in-github",
        "colab_type": "text"
      },
      "source": [
        "<a href=\"https://colab.research.google.com/github/SergyRams/A1-Introduccion-a-Bases-de-datos/blob/master/Sesion7_Tarea.ipynb\" target=\"_parent\"><img src=\"https://colab.research.google.com/assets/colab-badge.svg\" alt=\"Open In Colab\"/></a>"
      ]
    },
    {
      "cell_type": "code",
      "execution_count": null,
      "metadata": {
        "id": "DYtUnLnEdrZf"
      },
      "outputs": [],
      "source": [
        "Celda de código <BnjCzkVHVNy9>\n",
        "# %% [code]\n",
        "import pandas as pd\n",
        "import json\n",
        "import xml.etree.ElementTree as ET\n",
        "import yaml\n",
        "import csv\n",
        "\n",
        "# 1.1 Cargar JSON\n",
        "def cargar_json():\n",
        "    datos_json = '''\n",
        "    {\n",
        "        \"clientes\": [\n",
        "            {\"id\": 1, \"nombre\": \"Ana\", \"edad\": 28, \"compras\": [100, 150, 200]},\n",
        "            {\"id\": 2, \"nombre\": \"Luis\", \"edad\": 35, \"compras\": [80, 120]},\n",
        "            {\"id\": 3, \"nombre\": \"Maria\", \"edad\": 42, \"compras\": [300, 250, 180, 90]}\n",
        "        ]\n",
        "    }\n",
        "    '''\n",
        "    return json.loads(datos_json)\n",
        "\n",
        "# 1.2 Cargar XML\n",
        "def cargar_xml():\n",
        "    datos_xml = '''\n",
        "    <empresa>\n",
        "        <empleados>\n",
        "            <empleado id=\"101\">\n",
        "                <nombre>Carlos Pérez</nombre>\n",
        "                <departamento>Ventas</departamento>\n",
        "                <salario>45000</salario>\n",
        "            </empleado>\n",
        "            <empleado id=\"102\">\n",
        "                <nombre>Elena Gómez</nombre>\n",
        "                <departamento>IT</departamento>\n",
        "                <salario>52000</salario>\n",
        "            </empleado>\n",
        "        </empleados>\n",
        "    </empresa>\n",
        "    '''\n",
        "    return ET.fromstring(datos_xml)\n",
        "\n",
        "# 1.3 Cargar YAML\n",
        "def cargar_yaml():\n",
        "    datos_yaml = '''\n",
        "    productos:\n",
        "      - id: \"P001\"\n",
        "        nombre: \"Laptop Gaming\"\n",
        "        precio: 1200.50\n",
        "        categorias: [\"Tecnología\", \"Computación\"]\n",
        "      - id: \"P002\"\n",
        "        nombre: \"Mouse Inalámbrico\"\n",
        "        precio: 25.99\n",
        "        categorias: [\"Tecnología\", \"Accesorios\"]\n",
        "    '''\n",
        "    return yaml.safe_load(datos_yaml)\n",
        "\n",
        "# 1.4 Cargar CSV\n",
        "def cargar_csv():\n",
        "    datos_csv = '''id,nombre,ciudad,edad\n",
        "                    1,Ana,Madrid,28\n",
        "                    2,Luis,Barcelona,35\n",
        "                    3,Maria,Valencia,42'''\n",
        "\n",
        "    from io import StringIO\n",
        "    return pd.read_csv(StringIO(datos_csv))\n"
      ]
    },
    {
      "cell_type": "code",
      "source": [
        "# Ejecutar carga de datos\n",
        "print(\"JSON:\", cargar_json(), \"\\n\")\n",
        "print(\"XML:\", cargar_xml(), \"\\n\")\n",
        "print(\"YAML:\", cargar_yaml(), \"\\n\")\n",
        "print(\"CSV:\")\n",
        "display(cargar_csv())\n"
      ],
      "metadata": {
        "id": "EFhkCSwuoOnz"
      },
      "execution_count": null,
      "outputs": []
    },
    {
      "cell_type": "code",
      "source": [
        " 2.1 Parsing de JSON\n",
        "def parsear_json(datos_json):\n",
        "    clientes = datos_json['clientes']\n",
        "\n",
        "    info_extraida = []\n",
        "    for cliente in clientes:\n",
        "        info = {\n",
        "            'nombre': cliente['nombre'],\n",
        "            'total_compras': sum(cliente['compras']),\n",
        "            'cantidad_compras': len(cliente['compras']),\n",
        "            'compra_promedio': sum(cliente['compras']) / len(cliente['compras'])\n",
        "        }\n",
        "        info_extraida.append(info)\n",
        "\n",
        "    return pd.DataFrame(info_extraida)\n",
        "\n",
        "# 2.2 Parsing de XML\n",
        "def parsear_xml(root_xml):\n",
        "    empleados_info = []\n",
        "\n",
        "    for empleado in root_xml.findall('.//empleado'):\n",
        "        info = {\n",
        "            'id': empleado.get('id'),\n",
        "            'nombre': empleado.find('nombre').text,\n",
        "            'departamento': empleado.find('departamento').text,\n",
        "            'salario': int(empleado.find('salario').text)\n",
        "        }\n",
        "        empleados_info.append(info)\n",
        "\n",
        "    return pd.DataFrame(empleados_info)\n",
        "\n",
        "# 2.3 Parsing de YAML\n",
        "def parsear_yaml(datos_yaml):\n",
        "    productos_info = []\n",
        "\n",
        "    for producto in datos_yaml['productos']:\n",
        "        info = {\n",
        "            'id': producto['id'],\n",
        "            'nombre': producto['nombre'],\n",
        "            'precio': producto['precio'],\n",
        "            'categorias': ', '.join(producto['categorias'])\n",
        "        }\n",
        "        productos_info.append(info)\n",
        "\n",
        "    return pd.DataFrame(productos_info)"
      ],
      "metadata": {
        "id": "_qz2TAgFoZ0e"
      },
      "execution_count": null,
      "outputs": []
    },
    {
      "cell_type": "code",
      "source": [
        "# Ejecutar parsing\n",
        "datos_json = cargar_json()\n",
        "datos_xml = cargar_xml()\n",
        "datos_yaml = cargar_yaml()\n",
        "\n",
        "print(\"JSON Parseado:\")\n",
        "display(parsear_json(datos_json))\n",
        "print(\"\\n\")\n",
        "print(\"XML Parseado:\")\n",
        "display(parsear_xml(datos_xml))\n",
        "print(\"\\n\")\n",
        "print(\"YAML Parseado:\")\n",
        "display(parsear_yaml(datos_yaml))"
      ],
      "metadata": {
        "id": "XNu2yTrBod3d"
      },
      "execution_count": null,
      "outputs": []
    },
    {
      "cell_type": "code",
      "source": [
        "# 3.1 JSON anidado a tabla plana\n",
        "def json_anidado_a_tabla():\n",
        "    datos_complejos = {\n",
        "        \"empresa\": \"Tech Solutions\",\n",
        "        \"departamentos\": [\n",
        "            {\n",
        "                \"nombre\": \"Ventas\",\n",
        "                \"manager\": \"Ana López\",\n",
        "                \"empleados\": [\n",
        "                    {\"id\": 1, \"nombre\": \"Carlos\", \"ventas\": [100, 200, 150]},\n",
        "                    {\"id\": 2, \"nombre\": \"Marta\", \"ventas\": [300, 250]}\n",
        "                ]\n",
        "            },\n",
        "            {\n",
        "                \"nombre\": \"IT\",\n",
        "                \"manager\": \"David Chen\",\n",
        "                \"empleados\": [\n",
        "                    {\"id\": 3, \"nombre\": \"Laura\", \"proyectos\": 5},\n",
        "                    {\"id\": 4, \"nombre\": \"Pedro\", \"proyectos\": 3}\n",
        "                ]\n",
        "            }\n",
        "        ]\n",
        "    }\n"
      ],
      "metadata": {
        "id": "8s66nO_5ok01"
      },
      "execution_count": null,
      "outputs": []
    },
    {
      "cell_type": "code",
      "source": [
        " # Aplanar estructura\n",
        "    filas = []\n",
        "    for dept in datos_complejos['departamentos']:\n",
        "        for emp in dept['empleados']:\n",
        "            fila = {\n",
        "                'empresa': datos_complejos['empresa'],\n",
        "                'departamento': dept['nombre'],\n",
        "                'manager': dept['manager'],\n",
        "                'id_empleado': emp['id'],\n",
        "                'nombre_empleado': emp['nombre']\n",
        "            }\n",
        "\n",
        "            # Manejar diferentes estructuras\n",
        "            if 'ventas' in emp:\n",
        "                fila['tipo'] = 'Ventas'\n",
        "                fila['ventas_totales'] = sum(emp['ventas'])\n",
        "            elif 'proyectos' in emp:\n",
        "                fila['tipo'] = 'IT'\n",
        "                fila['proyectos'] = emp['proyectos']\n",
        "\n",
        "            filas.append(fila)\n",
        "\n",
        "    return pd.DataFrame(filas)"
      ],
      "metadata": {
        "id": "IqOid9coouQ9"
      },
      "execution_count": null,
      "outputs": []
    },
    {
      "cell_type": "code",
      "source": [
        "print(\"JSON Anidado a Tabla:\")\n",
        "display(json_anidado_a_tabla())"
      ],
      "metadata": {
        "id": "jEomKxjzoyfU"
      },
      "execution_count": null,
      "outputs": []
    },
    {
      "cell_type": "code",
      "source": [
        "# 3.2 XML complejo a DataFrame\n",
        "def xml_complejo_a_dataframe():\n",
        "    xml_complejo = '''\n",
        "    <catalogo>\n",
        "        <producto sku=\"A101\">\n",
        "            <nombre>Laptop HP</nombre>\n",
        "            <precio>899.99</precio>\n",
        "            <especificaciones>\n",
        "                <ram>16GB</ram>\n",
        "                <almacenamiento>512GB SSD</almacenamiento>\n",
        "            </especificaciones>\n",
        "            <categorias>\n",
        "                <categoria>Tecnología</categoria>\n",
        "                <categoria>Computadoras</categoria>\n",
        "            </categorias>\n",
        "        </producto>\n",
        "        <producto sku=\"A102\">\n",
        "            <nombre>Tablet Samsung</nombre>\n",
        "            <precio>299.99</precio>\n",
        "            <especificaciones>\n",
        "                <pantalla>10.5\"</pantalla>\n",
        "                <almacenamiento>128GB</almacenamiento>\n",
        "            </especificaciones>\n",
        "            <categorias>\n",
        "                <categoria>Tecnología</categoria>\n",
        "                <categoria>Tablets</categoria>\n",
        "            </categorias>\n",
        "        </producto>\n",
        "    </catalogo>\n",
        "    '''\n",
        "\n",
        "    root = ET.fromstring(xml_complejo)\n",
        "    productos = []\n",
        "\n",
        "    for producto in root.findall('producto'):\n",
        "        info = {\n",
        "            'sku': producto.get('sku'),\n",
        "            'nombre': producto.find('nombre').text,\n",
        "            'precio': float(producto.find('precio').text),\n",
        "            'ram': producto.findtext('especificaciones/ram', 'N/A'),\n",
        "            'almacenamiento': producto.findtext('especificaciones/almacenamiento', 'N/A'),\n",
        "            'pantalla': producto.findtext('especificaciones/pantalla', 'N/A'),\n",
        "            'categorias': ', '.join([cat.text for cat in producto.findall('categorias/categoria')])\n",
        "        }\n",
        "        productos.append(info)\n",
        "\n",
        "    return pd.DataFrame(productos)"
      ],
      "metadata": {
        "id": "mJUqoL8so1ul"
      },
      "execution_count": null,
      "outputs": []
    },
    {
      "cell_type": "code",
      "source": [
        "print(\"XML Complejo a DataFrame:\")\n",
        "display(xml_complejo_a_dataframe())"
      ],
      "metadata": {
        "id": "jtWaZ_Wqo8ad"
      },
      "execution_count": null,
      "outputs": []
    },
    {
      "cell_type": "code",
      "source": [
        "# 4.1 Datos de ejemplo sucios\n",
        "def crear_datos_sucios():\n",
        "    return pd.DataFrame({\n",
        "        'nombre': ['  ana lópez  ', 'LUIS GARCIA', 'Maria  ', 'JOSE@PEREZ', None],\n",
        "        'edad': ['28 años', '35', 'cuarenta y dos', '25', '30'],\n",
        "        'email': ['ana@empresa.com', 'luis.garcia', 'maria@hotmail.com', 'jose@', None],\n",
        "        'telefono': ['+34 611 223 344', '611.223.344', '611223344', '911223344', ''],\n",
        "        'salario': ['30,000.50', '25.500,75', '40000', '35.000', '28000.25'],\n",
        "        'fecha_contratacion': ['2023-01-15', '15/02/2022', '2021-12-01', '20-03-2023', '2020-05-30']\n",
        "    })"
      ],
      "metadata": {
        "id": "4aCQoTVRpBsV"
      },
      "execution_count": null,
      "outputs": []
    },
    {
      "cell_type": "code",
      "source": [
        "datos_sucios = crear_datos_sucios()\n",
        "print(\"Datos Originales (Sucios):\")\n",
        "display(datos_sucios)"
      ],
      "metadata": {
        "id": "NOesed4NpLu3"
      },
      "execution_count": null,
      "outputs": []
    },
    {
      "cell_type": "code",
      "source": [
        "# 4.2 Estandarización de campos\n",
        "def limpiar_y_estandarizar(df):\n",
        "    df_limpio = df.copy()\n",
        "\n",
        "    # Limpiar nombres\n",
        "    df_limpio['nombre'] = df_limpio['nombre'].str.strip().str.title().fillna('Desconocido')\n",
        "    df_limpio['nombre'] = df_limpio['nombre'].str.replace('@', ' ')\n",
        "\n",
        "    # Normalizar edades (extraer números)\n",
        "    df_limpio['edad'] = df_limpio['edad'].str.extract('(\\d+)').astype(float)\n",
        "\n",
        "    # Validar y limpiar emails\n",
        "    def validar_email(email):\n",
        "        if pd.isna(email) or '@' not in email or '.' not in email.split('@')[-1]:\n",
        "            return 'email_invalido@empresa.com'\n",
        "        return email.lower().strip()\n",
        "\n",
        "    df_limpio['email'] = df_limpio['email'].apply(validar_email)\n",
        "\n",
        "    # Estandarizar teléfonos\n",
        "    df_limpio['telefono'] = df_limpio['telefono'].str.replace(r'[\\s\\.\\+-]', '', regex=True)\n",
        "    df_limpio['telefono'] = df_limpio['telefono'].str.extract('(\\d{9})').fillna('000000000')\n",
        "\n",
        "    # Normalizar salarios\n",
        "    df_limpio['salario'] = (\n",
        "        df_limpio['salario']\n",
        "        .str.replace('.', '', regex=False)\n",
        "        .str.replace(',', '.')\n",
        "        .astype(float)\n",
        "    )\n",
        "\n",
        "    # Estandarizar fechas\n",
        "    df_limpio['fecha_contratacion'] = pd.to_datetime(\n",
        "        df_limpio['fecha_contratacion'],\n",
        "        errors='coerce',\n",
        "        dayfirst=True\n",
        "    )\n",
        "\n",
        "    return df_limpio"
      ],
      "metadata": {
        "id": "YVccd7LfpSKl"
      },
      "execution_count": null,
      "outputs": []
    },
    {
      "cell_type": "code",
      "source": [
        "datos_limpios = limpiar_y_estandarizar(datos_sucios)\n",
        "print(\"Datos Limpiados y Estandarizados:\")\n",
        "display(datos_limpios)"
      ],
      "metadata": {
        "id": "2-7AaZcqpZEX"
      },
      "execution_count": null,
      "outputs": []
    },
    {
      "cell_type": "code",
      "source": [
        "# 4.3 Manejo de valores nulos y outliers\n",
        "def manejar_nulos_outliers(df):\n",
        "    df_manejado = df.copy()\n",
        "\n",
        "    # Estrategias para nulos\n",
        "    df_manejado['edad'] = df_manejado['edad'].fillna(df_manejado['edad'].median())\n",
        "    df_manejado['salario'] = df_manejado['salario'].fillna(df_manejado['salario'].mean())\n",
        "\n",
        "    # Detectar y manejar outliers en salario\n",
        "    Q1 = df_manejado['salario'].quantile(0.25)\n",
        "    Q3 = df_manejado['salario'].quantile(0.75)\n",
        "    IQR = Q3 - Q1\n",
        "\n",
        "    limite_inferior = Q1 - 1.5 * IQR\n",
        "    limite_superior = Q3 + 1.5 * IQR\n",
        "\n",
        "    # Capar outliers\n",
        "    df_manejado['salario'] = df_manejado['salario'].clip(limite_inferior, limite_superior)\n",
        "\n",
        "    return df_manejado"
      ],
      "metadata": {
        "id": "hwYOrXkipc6Y"
      },
      "execution_count": null,
      "outputs": []
    },
    {
      "cell_type": "code",
      "source": [
        "datos_finales = manejar_nulos_outliers(datos_limpios)\n",
        "print(\"Datos con Nulos y Outliers Manejados:\")\n",
        "display(datos_finales)"
      ],
      "metadata": {
        "id": "eBXod8dsphIA"
      },
      "execution_count": null,
      "outputs": []
    },
    {
      "cell_type": "code",
      "source": [
        "#### 5. Manejo de estructuras anidadas\n",
        "# 5.1 Datos con estructuras anidadas complejas\n",
        "def crear_datos_anidados():\n",
        "    return {\n",
        "        \"usuarios\": [\n",
        "            {\n",
        "                \"id\": 1,\n",
        "                \"perfil\": {\n",
        "                    \"nombre\": \"Ana García\",\n",
        "                    \"contacto\": {\n",
        "                        \"email\": \"ana@empresa.com\",\n",
        "                        \"telefonos\": [\"+34 611223344\", \"+34 622334455\"]\n",
        "                    },\n",
        "                    \"preferencias\": {\n",
        "                        \"notificaciones\": True,\n",
        "                        \"tema\": \"oscuro\"\n",
        "                    }\n",
        "                },\n",
        "                \"actividad\": {\n",
        "                    \"ultimo_login\": \"2024-01-15T10:30:00\",\n",
        "                    \"compras\": [\n",
        "                        {\"fecha\": \"2024-01-10\", \"monto\": 150.50, \"producto\": \"Laptop\"},\n",
        "                        {\"fecha\": \"2024-01-12\", \"monto\": 25.99, \"producto\": \"Mouse\"}\n",
        "                    ]\n",
        "                }\n",
        "            },\n",
        "            {\n",
        "                \"id\": 2,\n",
        "                \"perfil\": {\n",
        "                    \"nombre\": \"Luis Martínez\",\n",
        "                    \"contacto\": {\n",
        "                        \"email\": \"luis@empresa.com\",\n",
        "                        \"telefonos\": [\"+34 633445566\"]\n",
        "                    },\n",
        "                    \"preferencias\": {\n",
        "                        \"notificaciones\": False,\n",
        "                        \"tema\": \"claro\"\n",
        "                    }\n",
        "                },\n",
        "                \"actividad\": {\n",
        "                    \"ultimo_login\": \"2024-01-14T15:45:00\",\n",
        "                    \"compras\": [\n",
        "                        {\"fecha\": \"2024-01-13\", \"monto\": 299.99, \"producto\": \"Tablet\"}\n",
        "                    ]\n",
        "                }\n",
        "            }\n",
        "        ]\n",
        "    }\n"
      ],
      "metadata": {
        "id": "Rt_xgcfnpyYx"
      },
      "execution_count": null,
      "outputs": []
    },
    {
      "cell_type": "code",
      "source": [
        "print(\"MANEJO DE ESTRUCTURAS ANIDADAS\")\n",
        "datos_anidados = crear_datos_anidados()\n",
        "datos_anidados"
      ],
      "metadata": {
        "id": "ddo7H7smqDIP"
      },
      "execution_count": null,
      "outputs": []
    },
    {
      "cell_type": "code",
      "source": [
        "# 5.2 Desanidar estructura compleja\n",
        "def desanidar_estructura_compleja(datos):\n",
        "    usuarios_desanidados = []\n",
        "\n",
        "    for usuario in datos['usuarios']:\n",
        "        # Información básica\n",
        "        info_base = {\n",
        "            'usuario_id': usuario['id'],\n",
        "            'nombre': usuario['perfil']['nombre'],\n",
        "            'email': usuario['perfil']['contacto']['email'],\n",
        "            'telefono_principal': usuario['perfil']['contacto']['telefonos'][0] if usuario['perfil']['contacto']['telefonos'] else None,\n",
        "            'notificaciones_activas': usuario['perfil']['preferencias']['notificaciones'],\n",
        "            'tema_preferido': usuario['perfil']['preferencias']['tema'],\n",
        "            'ultimo_login': usuario['actividad']['ultimo_login']\n",
        "        }\n",
        "\n",
        "        # Información de compras (una fila por compra)\n",
        "        for compra in usuario['actividad']['compras']:\n",
        "            info_compra = info_base.copy()\n",
        "            info_compra.update({\n",
        "                'fecha_compra': compra['fecha'],\n",
        "                'monto_compra': compra['monto'],\n",
        "                'producto_compra': compra['producto']\n",
        "            })\n",
        "            usuarios_desanidados.append(info_compra)\n",
        "\n",
        "    return pd.DataFrame(usuarios_desanidados)\n"
      ],
      "metadata": {
        "id": "OEdf83UfqGfU"
      },
      "execution_count": null,
      "outputs": []
    },
    {
      "cell_type": "code",
      "source": [
        "df_desanidado = desanidar_estructura_compleja(datos_anidados)\n",
        "print(\"Estructura Desanidada:\")\n",
        "display(df_desanidado)"
      ],
      "metadata": {
        "id": "xKJUHlBUqWfy"
      },
      "execution_count": null,
      "outputs": []
    },
    {
      "cell_type": "code",
      "source": [
        "# 5.3 Agregar métricas de datos anidados\n",
        "def agregar_metricas_anidadas(df_original):\n",
        "    datos = crear_datos_anidados()\n",
        "    metricas = []\n",
        "\n",
        "    for usuario in datos['usuarios']:\n",
        "        metricas_usuario = {\n",
        "            'usuario_id': usuario['id'],\n",
        "            'nombre': usuario['perfil']['nombre'],\n",
        "            'total_compras': len(usuario['actividad']['compras']),\n",
        "            'monto_total_compras': sum(compra['monto'] for compra in usuario['actividad']['compras']),\n",
        "            'cantidad_telefonos': len(usuario['perfil']['contacto']['telefonos']),\n",
        "            'compra_promedio': sum(compra['monto'] for compra in usuario['actividad']['compras']) / len(usuario['actividad']['compras']) if usuario['actividad']['compras'] else 0\n",
        "        }\n",
        "        metricas.append(metricas_usuario)\n",
        "\n",
        "    return pd.DataFrame(metricas)\n"
      ],
      "metadata": {
        "id": "PBC2Hp6oqcIM"
      },
      "execution_count": null,
      "outputs": []
    },
    {
      "cell_type": "code",
      "source": [
        "df_metricas = agregar_metricas_anidadas(datos_anidados)\n",
        "print(\"Métricas de Datos Anidados:\")\n",
        "display(df_metricas)"
      ],
      "metadata": {
        "id": "5bENlsKbql9s"
      },
      "execution_count": null,
      "outputs": []
    },
    {
      "cell_type": "code",
      "source": [
        "# 6.1 Integración de múltiples fuentes\n",
        "def integrar_fuentes_datos():\n",
        "    # Simular datos de diferentes fuentes\n",
        "    fuente_web = pd.DataFrame({\n",
        "        'user_id': [1, 2, 3, 4],\n",
        "        'nombre': ['Ana García', 'Luis Martínez', 'Maria López', 'Carlos Ruiz'],\n",
        "        'email': ['ana@empresa.com', 'luis@empresa.com', 'maria@empresa.com', 'carlos@empresa.com'],\n",
        "        'visitas_totales': [150, 89, 234, 45]\n",
        "    })\n",
        "\n",
        "    fuente_bd = pd.DataFrame({\n",
        "        'id_usuario': [1, 2, 3, 5],\n",
        "        'nombre_completo': ['Ana García', 'Luis Martínez', 'Maria López', 'Elena Torres'],\n",
        "        'fecha_registro': ['2023-01-15', '2023-02-20', '2023-03-10', '2023-04-05'],\n",
        "        'segmento': ['Premium', 'Standard', 'Premium', 'Standard']\n",
        "    })\n",
        "\n",
        "    fuente_api = pd.DataFrame({\n",
        "        'usuario': [1, 2, 4],\n",
        "        'ultima_compra': ['2024-01-10', '2024-01-12', '2024-01-08'],\n",
        "        'monto_ultima_compra': [150.50, 299.99, 45.75]\n",
        "    })\n",
        "\n",
        "    # Integración con merge\n",
        "    df_integrado = (\n",
        "        fuente_web.merge(fuente_bd, left_on='user_id', right_on='id_usuario', how='outer')\n",
        "        .merge(fuente_api, left_on='user_id', right_on='usuario', how='left')\n",
        "    )\n",
        "\n",
        "    return df_integrado"
      ],
      "metadata": {
        "id": "GkWiWvQuqw3f"
      },
      "execution_count": null,
      "outputs": []
    },
    {
      "cell_type": "code",
      "source": [
        "df_integrado = integrar_fuentes_datos()\n",
        "print(\"Datos Integrados de Múltiples Fuentes:\")\n",
        "display(df_integrado)"
      ],
      "metadata": {
        "id": "YRaLcxTLq1AZ"
      },
      "execution_count": null,
      "outputs": []
    },
    {
      "cell_type": "code",
      "source": [
        "# 6.2 Validación de datos\n",
        "def validar_datos(df):\n",
        "    reporte_validacion = {}\n",
        "\n",
        "    # Validar completitud\n",
        "    reporte_validacion['completitud'] = {\n",
        "        'total_registros': len(df),\n",
        "        'registros_completos': len(df.dropna()),\n",
        "        'porcentaje_completitud': (len(df.dropna()) / len(df)) * 100\n",
        "    }\n",
        "\n",
        "    # Validar unicidad\n",
        "    reporte_validacion['unicidad'] = {\n",
        "        'ids_unicos': df['user_id'].nunique(),\n",
        "        'emails_unicos': df['email'].nunique(),\n",
        "        'duplicados_totales': len(df) - len(df.drop_duplicates())\n",
        "    }\n",
        "\n",
        "    # Validar consistencia\n",
        "    if 'visitas_totales' in df.columns:\n",
        "        reporte_validacion['consistencia'] = {\n",
        "            'visitas_negativas': (df['visitas_totales'] < 0).sum(),\n",
        "            'monto_compra_negativo': (df['monto_ultima_compra'] < 0).sum() if 'monto_ultima_compra' in df.columns else 0\n",
        "        }\n",
        "\n",
        "    # Validar formato de email\n",
        "    if 'email' in df.columns:\n",
        "        patron_email = r'^[a-zA-Z0-9._%+-]+@[a-zA-Z0-9.-]+\\.[a-zA-Z]{2,}$'\n",
        "        emails_validos = df['email'].str.match(patron_email).sum()\n",
        "        reporte_validacion['formatos'] = {\n",
        "            'emails_validos': emails_validos,\n",
        "            'emails_invalidos': len(df) - emails_validos\n",
        "        }\n",
        "\n",
        "    return reporte_validacion"
      ],
      "metadata": {
        "id": "6niETnmdq4Ie"
      },
      "execution_count": null,
      "outputs": []
    },
    {
      "cell_type": "code",
      "source": [
        "reporte = validar_datos(df_integrado)\n",
        "print(\"Reporte de Validación:\")\n",
        "for seccion, resultados in reporte.items():\n",
        "    print(f\"\\n{seccion.upper()}:\")\n",
        "    for k, v in resultados.items():\n",
        "        print(f\"  {k}: {v}\")"
      ],
      "metadata": {
        "id": "bomY6QN3q-tc"
      },
      "execution_count": null,
      "outputs": []
    },
    {
      "cell_type": "code",
      "source": [
        "# 6.3 Preparación para análisis\n",
        "def preparar_para_analisis(df):\n",
        "    df_preparado = df.copy()\n",
        "\n",
        "    # Crear características derivadas\n",
        "    if 'fecha_registro' in df_preparado.columns:\n",
        "        df_preparado['fecha_registro'] = pd.to_datetime(df_preparado['fecha_registro'])\n",
        "        df_preparado['antiguedad_dias'] = (pd.Timestamp.now() - df_preparado['fecha_registro']).dt.days\n",
        "\n",
        "    if 'visitas_totales' in df_preparado.columns:\n",
        "        df_preparado['categoria_visitas'] = pd.cut(\n",
        "            df_preparado['visitas_totales'],\n",
        "            bins=[0, 50, 150, float('inf')],\n",
        "            labels=['Bajo', 'Medio', 'Alto']\n",
        "        )\n",
        "\n",
        "    # Codificar variables categóricas\n",
        "    if 'segmento' in df_preparado.columns:\n",
        "        segmento_dummies = pd.get_dummies(df_preparado['segmento'], prefix='segmento')\n",
        "        df_preparado = pd.concat([df_preparado, segmento_dummies], axis=1)\n",
        "\n",
        "    # Seleccionar columnas finales\n",
        "    columnas_finales = [col for col in df_preparado.columns if not col.startswith('Unnamed')]\n",
        "    df_preparado = df_preparado[columnas_finales]\n",
        "\n",
        "    return df_preparado\n"
      ],
      "metadata": {
        "id": "hXwW7mZBrEz0"
      },
      "execution_count": null,
      "outputs": []
    },
    {
      "cell_type": "code",
      "source": [
        "df_analisis = preparar_para_analisis(df_integrado)\n",
        "print(\"\\nDatos Preparados para Análisis:\")\n",
        "display(df_analisis.head())"
      ],
      "metadata": {
        "id": "VcpO-XGBrNwF"
      },
      "execution_count": null,
      "outputs": []
    },
    {
      "cell_type": "code",
      "source": [
        "### TAREAS (entrega el 14 de Octubre)\n",
        "#1. Cada tarea debe ejecutarse en una celda separada\n",
        "#2. Mostrar el resultado con display() o print()\n",
        "#3. Comentar el código explicando cada paso\n",
        "#4. Entregar el notebook con las 4 tareas completas y los integrantes del equipo."
      ],
      "metadata": {
        "id": "tkpIT-xDrVz3"
      },
      "execution_count": null,
      "outputs": []
    },
    {
      "cell_type": "code",
      "source": [
        "# Convertir un JSON de pedidos con productos anidados a una tabla plana donde cada fila represente un producto pedido.\n",
        "\n",
        "# JSON DE PEDIDOS\n",
        "pedidos_json = {\n",
        "    \"pedidos\": [\n",
        "        {\n",
        "            \"id_pedido\": \"P001\",\n",
        "            \"cliente\": \"Ana García\",\n",
        "            \"fecha\": \"2024-01-15\",\n",
        "            \"productos\": [\n",
        "                {\"nombre\": \"Laptop\", \"precio\": 899.99, \"cantidad\": 1},\n",
        "                {\"nombre\": \"Mouse\", \"precio\": 25.50, \"cantidad\": 2}\n",
        "            ]\n",
        "        },\n",
        "        {\n",
        "            \"id_pedido\": \"P002\",\n",
        "            \"cliente\": \"Luis Martínez\",\n",
        "            \"fecha\": \"2024-01-16\",\n",
        "            \"productos\": [\n",
        "                {\"nombre\": \"Tablet\", \"precio\": 299.99, \"cantidad\": 1},\n",
        "                {\"nombre\": \"Funda\", \"precio\": 15.99, \"cantidad\": 1},\n",
        "                {\"nombre\": \"Stylus\", \"precio\": 12.50, \"cantidad\": 1}\n",
        "            ]\n",
        "        }\n",
        "    ]\n",
        "}\n",
        "\n",
        "# 1. Extraer información de cada pedido\n",
        "# 2. Desanidar los productos\n",
        "# 3. Crear una fila por cada producto\n",
        "# 4. Calcular total por línea\n",
        "# 5. Crear DataFrame final\n"
      ],
      "metadata": {
        "id": "7eDJDmtWrian"
      },
      "execution_count": null,
      "outputs": []
    },
    {
      "cell_type": "code",
      "source": [
        "\"\"\"\n",
        "Integrar información de clientes proveniente de 3 fuentes diferentes:\n",
        "Base de datos (información básica)\n",
        "Web analytics (comportamiento)\n",
        "CRM (segmentación)\n",
        "\"\"\"\n",
        "# FUENTE 1: BASE DE DATOS\n",
        "clientes_bd = pd.DataFrame({\n",
        "    'cliente_id': [101, 102, 103, 104],\n",
        "    'nombre': ['Ana García', 'Luis Martínez', 'María López', 'Carlos Ruiz'],\n",
        "    'email': ['ana@empresa.com', 'luis@empresa.com', 'maria@empresa.com', 'carlos@empresa.com'],\n",
        "    'pais': ['España', 'México', 'España', 'Argentina']\n",
        "})\n",
        "\n",
        "# FUENTE 2: WEB ANALYTICS\n",
        "comportamiento_web = pd.DataFrame({\n",
        "    'user_id': [101, 102, 103, 105],\n",
        "    'visitas_totales': [45, 128, 12, 67],\n",
        "    'paginas_vistas': [230, 512, 45, 289],\n",
        "    'ultima_visita': ['2024-01-15', '2024-01-14', '2024-01-10', '2024-01-13']\n",
        "})\n",
        "\n",
        "# FUENTE 3: CRM\n",
        "segmentacion_crm = pd.DataFrame({\n",
        "    'id_cliente': [101, 102, 104],\n",
        "    'segmento': ['Premium', 'Standard', 'VIP'],\n",
        "    'valor_cliente': [4500, 1200, 8900]\n",
        "})\n",
        "\n",
        "# 1. Unir las 3 fuentes por ID de cliente\n",
        "# 2. Manejar clientes que no aparecen en todas las fuentes\n",
        "# 3. Crear métricas combinadas\n",
        "# 4. Identificar datos inconsistentes"
      ],
      "metadata": {
        "id": "TDUOZdMvr2TG"
      },
      "execution_count": null,
      "outputs": []
    },
    {
      "cell_type": "code",
      "source": [
        "# Crear un sistema de validación que detecte problemas comunes en los datos y genere un reporte.\n",
        "# DATOS PARA VALIDAR\n",
        "datos_validar = pd.DataFrame({\n",
        "    'empleado_id': [1, 2, 3, 4, 5, 6, 7, 8],\n",
        "    'nombre': ['Ana García', 'Luis Martínez', 'Maria', 'Carlos Ruiz López', 'Elena', None, 'Juan Pérez', 'Ana García'],\n",
        "    'email': ['ana@empresa.com', 'luis@empresa.com', 'maria@', 'carlos@empresa.com', 'elena@empresa.com', 'error@', 'juan@empresa.com', 'ana@empresa.com'],\n",
        "    'salario': [35000, 28000, 42000, -5000, 38000, 32000, 29000, 35000],\n",
        "    'departamento': ['Ventas', 'IT', 'Marketing', 'Ventas', 'RRHH', 'IT', 'Finanzas', 'Ventas'],\n",
        "    'fecha_contratacion': ['2023-01-15', '2022-03-20', '2021-12-01', '2020-06-15', '2023-02-28', '2022-11-30', '2021-08-22', '2023-01-15']\n",
        "})\n",
        "\n",
        "# 1. Validar formato de email\n",
        "# 2. Detectar salarios negativos o cero\n",
        "# 3. Encontrar duplicados\n",
        "# 4. Verificar nombres completos\n",
        "# 5. Validar fechas\n",
        "# 6. Generar reporte de calidad\n"
      ],
      "metadata": {
        "id": "6CMagsLTr9JY"
      },
      "execution_count": null,
      "outputs": []
    }
  ]
}